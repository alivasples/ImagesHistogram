{
 "cells": [
  {
   "cell_type": "code",
   "execution_count": 1,
   "metadata": {},
   "outputs": [],
   "source": [
    "from PIL import Image\n",
    "import matplotlib.pyplot as plt"
   ]
  },
  {
   "cell_type": "code",
   "execution_count": 2,
   "metadata": {},
   "outputs": [],
   "source": [
    "def createNewArray(size):\n",
    "    array = []\n",
    "    for i in range(size):\n",
    "        array.append(0)\n",
    "    return array\n",
    "\n",
    "def toPercentage(array, total):\n",
    "    for i in range(len(array)):\n",
    "        array[i] = array[i] / total\n",
    "    return array\n",
    "\n",
    "def toHist(path):\n",
    "    img = Image.open(path)\n",
    "    #img.show()\n",
    "    red = createNewArray(256)\n",
    "    green = createNewArray(256)\n",
    "    blue = createNewArray(256)\n",
    "    count = 0\n",
    "    for pixel in list(img.getdata()):\n",
    "        # If the pixels are not background\n",
    "        if pixel[0] < 240 or pixel[1] < 240 or pixel[2] < 240:\n",
    "            red[pixel[0]] += 1\n",
    "            green[pixel[1]] += 1\n",
    "            blue[pixel[2]] += 1\n",
    "            count += 1\n",
    "    # Converting to percentages\n",
    "    red = toPercentage(red, count)\n",
    "    green = toPercentage(green, count)\n",
    "    blue = toPercentage(blue, count)\n",
    "    return red, green, blue, count\n",
    "    \n",
    "def toBuckets(array, nBuckets):\n",
    "    newArray = createNewArray(nBuckets)\n",
    "    for i in range(len(array)):\n",
    "        newArray[i%nBuckets] += array[i]\n",
    "    return newArray    "
   ]
  },
  {
   "cell_type": "code",
   "execution_count": 11,
   "metadata": {},
   "outputs": [],
   "source": [
    "path = 'images/apples/apple10.jpg'\n",
    "r,g,b,size = toHist(path)"
   ]
  },
  {
   "cell_type": "code",
   "execution_count": 12,
   "metadata": {},
   "outputs": [
    {
     "data": {
      "text/plain": [
       "[<matplotlib.lines.Line2D at 0x7f05d498b9d0>]"
      ]
     },
     "execution_count": 12,
     "metadata": {},
     "output_type": "execute_result"
    },
    {
     "data": {
      "image/png": "[encoded data removed]",
      "text/plain": [
       "<Figure size 432x288 with 1 Axes>"
      ]
     },
     "metadata": {
      "needs_background": "light"
     },
     "output_type": "display_data"
    }
   ],
   "source": [
    "r = toBuckets(r,10)\n",
    "g = toBuckets(g,10)\n",
    "b = toBuckets(b,10)\n",
    "plt.plot(r, color='r')\n",
    "plt.plot(g, color='g')\n",
    "plt.plot(b, color='b')"
   ]
  },
  {
   "cell_type": "code",
   "execution_count": 5,
   "metadata": {},
   "outputs": [
    {
     "ename": "NameError",
     "evalue": "name 'newHist' is not defined",
     "output_type": "error",
     "traceback": [
      "\u001b[0;31m---------------------------------------------------------------------------\u001b[0m",
      "\u001b[0;31mNameError\u001b[0m                                 Traceback (most recent call last)",
      "\u001b[0;32m<ipython-input-5-21677fd6ab90>\u001b[0m in \u001b[0;36m<module>\u001b[0;34m\u001b[0m\n\u001b[0;32m----> 1\u001b[0;31m \u001b[0ma\u001b[0m \u001b[0;34m=\u001b[0m \u001b[0mnewHist\u001b[0m\u001b[0;34m(\u001b[0m\u001b[0;34m)\u001b[0m\u001b[0;34m\u001b[0m\u001b[0;34m\u001b[0m\u001b[0m\n\u001b[0m\u001b[1;32m      2\u001b[0m \u001b[0mlen\u001b[0m\u001b[0;34m(\u001b[0m\u001b[0ma\u001b[0m\u001b[0;34m)\u001b[0m\u001b[0;34m\u001b[0m\u001b[0;34m\u001b[0m\u001b[0m\n",
      "\u001b[0;31mNameError\u001b[0m: name 'newHist' is not defined"
     ]
    }
   ],
   "source": []
  },
  {
   "cell_type": "code",
   "execution_count": null,
   "metadata": {},
   "outputs": [],
   "source": []
  }
 ],
 "metadata": {
  "kernelspec": {
   "display_name": "Python 3",
   "language": "python",
   "name": "python3"
  },
  "language_info": {
   "codemirror_mode": {
    "name": "ipython",
    "version": 3
   },
   "file_extension": ".py",
   "mimetype": "text/x-python",
   "name": "python",
   "nbconvert_exporter": "python",
   "pygments_lexer": "ipython3",
   "version": "3.7.7"
  }
 },
 "nbformat": 4,
 "nbformat_minor": 4
}
